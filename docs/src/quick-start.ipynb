{
 "cells": [
  {
   "cell_type": "markdown",
   "id": "82b03da1-3181-4399-8415-771e82170f10",
   "metadata": {},
   "source": [
    "# Quick start\n",
    "\n",
    "An option hierarchy is build by subclassing inept.Config and using the with statement. Inside of the class body, the special variable _ is made avalaible and provides different context managers that can customize the option nesting:\n",
    "\n",
    " - a `with _.options` block will list optional values\n",
    " - a `with _.group` block will list mandatory values\n",
    " - a `with _.switch` block will list mutually exclusive values"
   ]
  },
  {
   "cell_type": "code",
   "execution_count": 1,
   "id": "e7f21a11-a37f-40ac-9de7-d46ea68e2212",
   "metadata": {},
   "outputs": [],
   "source": [
    "import inept\n",
    "\n",
    "class RestaurantMenu(inept.Config):\n",
    "    with _.options:\n",
    "        coffe: bool = False\n",
    "        drink: str\n",
    "        with _.switch:\n",
    "            with _.group as simple_menu:\n",
    "                dish: str = \"steak and fries\"\n",
    "                with _.switch:\n",
    "                    starter: str\n",
    "                    dessert: str = \"apple pie\"\n",
    "            with _.group as full_menu:\n",
    "                starter: str = \"salad\"\n",
    "                dish: str = \"lasagna\"\n",
    "                dessert: str = \"compote\""
   ]
  },
  {
   "cell_type": "markdown",
   "id": "0f6e7667-9336-4f93-bd34-4bab0818e711",
   "metadata": {},
   "source": [
    "An instance of this class will store option values while ensuring consistency with the declared hierachy. Each option has a unique key, a string made of the nested option names, assembled with  `'.'`."
   ]
  },
  {
   "cell_type": "code",
   "execution_count": 2,
   "id": "25f2e03f",
   "metadata": {},
   "outputs": [
    {
     "data": {
      "text/plain": [
       "['coffe',\n",
       " 'drink',\n",
       " 'simple_menu',\n",
       " 'simple_menu.dish',\n",
       " 'simple_menu.starter',\n",
       " 'simple_menu.dessert',\n",
       " 'full_menu',\n",
       " 'full_menu.starter',\n",
       " 'full_menu.dish',\n",
       " 'full_menu.dessert']"
      ]
     },
     "execution_count": 2,
     "metadata": {},
     "output_type": "execute_result"
    }
   ],
   "source": [
    "order = RestaurantMenu()\n",
    "order.all_keys()"
   ]
  },
  {
   "cell_type": "markdown",
   "id": "3fb95c20-2fab-4530-80e1-7b601a5aa693",
   "metadata": {},
   "source": [
    "A configuration object acts like a dict for the set and get operations."
   ]
  },
  {
   "cell_type": "code",
   "execution_count": 3,
   "id": "cf1af4b3-17e0-4185-a87f-9c665d32c9dc",
   "metadata": {},
   "outputs": [
    {
     "data": {
      "text/plain": [
       "'salad'"
      ]
     },
     "execution_count": 3,
     "metadata": {},
     "output_type": "execute_result"
    }
   ],
   "source": [
    "order['coffe'] = True\n",
    "order['full_menu.dessert'] = \"creme brulee\"\n",
    "order['full_menu.starter']  # default values are automatically set"
   ]
  },
  {
   "cell_type": "markdown",
   "id": "e20a2af3-cb44-4fd6-a9c2-1d989bbfe141",
   "metadata": {},
   "source": [
    "The method `to_dict()` provides the full state of the configuration."
   ]
  },
  {
   "cell_type": "code",
   "execution_count": 4,
   "id": "2c11e65c-a19e-4c70-a26c-a0be22fb9adc",
   "metadata": {},
   "outputs": [
    {
     "data": {
      "text/plain": [
       "{'coffe': True,\n",
       " 'full_menu.starter': 'salad',\n",
       " 'full_menu.dish': 'lasagna',\n",
       " 'full_menu.dessert': 'creme brulee'}"
      ]
     },
     "execution_count": 4,
     "metadata": {},
     "output_type": "execute_result"
    }
   ],
   "source": [
    "order.to_dict()"
   ]
  },
  {
   "cell_type": "markdown",
   "id": "e171e491-b2d3-44e8-9b43-5b51150f3011",
   "metadata": {},
   "source": [
    "According to the options/group/switch used during declaration, the options are optional, mandatory or mutually exclusive. The configuration object ensures the consistency of its own state."
   ]
  },
  {
   "cell_type": "code",
   "execution_count": 5,
   "id": "90930c94-8add-44c8-a878-0ac7451d33b1",
   "metadata": {},
   "outputs": [
    {
     "name": "stdout",
     "output_type": "stream",
     "text": [
      "INFO: 'full_menu' is owerwritten by 'simple_menu'\n"
     ]
    },
    {
     "data": {
      "text/plain": [
       "{'coffe': True,\n",
       " 'simple_menu.dish': 'steak and fries',\n",
       " 'simple_menu.dessert': 'apple pie'}"
      ]
     },
     "execution_count": 5,
     "metadata": {},
     "output_type": "execute_result"
    }
   ],
   "source": [
    "order['simple_menu'] = True  # this erases 'full_menu' because 'simple_menu' and 'full_menu' are in a switch block\n",
    "order.to_dict()"
   ]
  },
  {
   "cell_type": "markdown",
   "id": "aab124e2-b869-4d24-a6b3-4baf5403383b",
   "metadata": {},
   "source": [
    "A nested dict can also be produced."
   ]
  },
  {
   "cell_type": "code",
   "execution_count": 6,
   "id": "5707ed09-3c74-40d3-b0b8-fcbd3a65865c",
   "metadata": {},
   "outputs": [
    {
     "data": {
      "text/plain": [
       "{'coffe': True,\n",
       " 'simple_menu': {'dish': 'steak and fries', 'dessert': 'apple pie'}}"
      ]
     },
     "execution_count": 6,
     "metadata": {},
     "output_type": "execute_result"
    }
   ],
   "source": [
    "order.to_nested_dict()"
   ]
  },
  {
   "cell_type": "markdown",
   "id": "e856532f-b6c0-4985-a830-1a6aa3e7502c",
   "metadata": {},
   "source": [
    "A configuration can be filled from a dict."
   ]
  },
  {
   "cell_type": "code",
   "execution_count": 7,
   "id": "59c357c8-70f9-4848-9fe5-4b2624704c9b",
   "metadata": {},
   "outputs": [
    {
     "data": {
      "text/plain": [
       "{'coffe': False,\n",
       " 'drink': 'water',\n",
       " 'full_menu.starter': 'salad',\n",
       " 'full_menu.dish': 'lasagna',\n",
       " 'full_menu.dessert': 'compote'}"
      ]
     },
     "execution_count": 7,
     "metadata": {},
     "output_type": "execute_result"
    }
   ],
   "source": [
    "new_order = RestaurantMenu()\n",
    "some_dict = {'full_menu': True, 'drink': 'water'}\n",
    "some_nested_dict = {'simple_menu': {'starter': 'salad'}}\n",
    "new_order.update(some_dict)\n",
    "new_order.to_dict()"
   ]
  },
  {
   "cell_type": "code",
   "execution_count": 8,
   "id": "082069e3-0bae-4612-89ca-53475001abbb",
   "metadata": {},
   "outputs": [
    {
     "name": "stdout",
     "output_type": "stream",
     "text": [
      "INFO: 'full_menu' is owerwritten by 'simple_menu'\n",
      "INFO: 'dessert' is owerwritten by 'starter'\n"
     ]
    },
    {
     "data": {
      "text/plain": [
       "{'coffe': False,\n",
       " 'drink': 'water',\n",
       " 'simple_menu.dish': 'steak and fries',\n",
       " 'simple_menu.starter': 'salad'}"
      ]
     },
     "execution_count": 8,
     "metadata": {},
     "output_type": "execute_result"
    }
   ],
   "source": [
    "new_order.update(inept.flatten(some_nested_dict))\n",
    "new_order.to_dict()"
   ]
  },
  {
   "cell_type": "markdown",
   "id": "dff01b40-4e09-490a-9cb3-7efbada14230",
   "metadata": {},
   "source": [
    "The command line arguments can be loaded at any time with"
   ]
  },
  {
   "cell_type": "code",
   "execution_count": null,
   "id": "70bc5c6b-5915-4e64-9b00-860c3652d94c",
   "metadata": {},
   "outputs": [],
   "source": [
    "# $ python myscript.py --coffe true --full_menu.dessert jelly\n",
    "order.load_cli()"
   ]
  }
 ],
 "metadata": {
  "kernelspec": {
   "display_name": "Python 3",
   "language": "python",
   "name": "python3"
  },
  "language_info": {
   "codemirror_mode": {
    "name": "ipython",
    "version": 3
   },
   "file_extension": ".py",
   "mimetype": "text/x-python",
   "name": "python",
   "nbconvert_exporter": "python",
   "pygments_lexer": "ipython3",
   "version": "3.9.4"
  }
 },
 "nbformat": 4,
 "nbformat_minor": 5
}
